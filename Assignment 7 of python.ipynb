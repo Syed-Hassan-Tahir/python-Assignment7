{
  "nbformat": 4,
  "nbformat_minor": 0,
  "metadata": {
    "colab": {
      "provenance": [],
      "authorship_tag": "ABX9TyOjjG350bdW0xFl1h391ePj",
      "include_colab_link": true
    },
    "kernelspec": {
      "name": "python3",
      "display_name": "Python 3"
    },
    "language_info": {
      "name": "python"
    }
  },
  "cells": [
    {
      "cell_type": "markdown",
      "metadata": {
        "id": "view-in-github",
        "colab_type": "text"
      },
      "source": [
        "<a href=\"https://colab.research.google.com/github/Syed-Hassan-Tahir/python-Assignment7/blob/main/Assignment%207%20of%20python.ipynb\" target=\"_parent\"><img src=\"https://colab.research.google.com/assets/colab-badge.svg\" alt=\"Open In Colab\"/></a>"
      ]
    },
    {
      "cell_type": "code",
      "execution_count": 2,
      "metadata": {
        "id": "RX58-6y0of7n"
      },
      "outputs": [],
      "source": [
        "import json\n",
        "\n",
        "class User:\n",
        "    def __init__(self, user_id, name, email):\n",
        "        self.user_id = user_id\n",
        "        self.name = name\n",
        "        self.email = email\n",
        "\n",
        "class Librarian(User):\n",
        "    def add_book(self, book):\n",
        "        # Implement logic to add book to the file\n",
        "        pass\n",
        "\n",
        "    def remove_book(self, book_id):\n",
        "        # Implement logic to remove book from the file\n",
        "        pass\n",
        "\n",
        "    def update_book(self, book):\n",
        "        # Implement logic to update book information in the file\n",
        "        pass\n",
        "\n",
        "class Member(User):\n",
        "    def borrow_book(self, book_id):\n",
        "        # Implement logic to borrow a book, updating availability\n",
        "        pass\n",
        "\n",
        "    def return_book(self, book_id):\n",
        "        # Implement logic to return a book, updating availability\n",
        "        pass\n",
        "\n",
        "class Book:\n",
        "    def __init__(self, book_id, title, author, availability):\n",
        "        self.book_id = book_id\n",
        "        self.title = title\n",
        "        self.author = author\n",
        "        self.availability = availability\n",
        "\n",
        "class LibraryManager:\n",
        "    def __init__(self):\n",
        "        self.books = []\n",
        "        self.users = []\n",
        "\n",
        "    def add_book(self, book):\n",
        "        self.books.append(book)\n",
        "        # Implement file writing logic to save books to a file\n",
        "\n",
        "    # Similar methods for remove_book, update_book, add_user, etc.\n",
        "\n",
        "    def load_data_from_files(self):\n",
        "        # Implement logic to read books and users from files\n",
        "        pass\n",
        "\n",
        "    def save_data_to_files(self):\n",
        "        # Implement logic to write books and users to files\n",
        "        pass\n",
        "\n",
        "# Example usage:\n",
        "library = LibraryManager()\n",
        "library.load_data_from_files()\n",
        "\n",
        "# Add a new book\n",
        "new_book = Book(101, \"The Lord of the Rings\", \"J.R.R. Tolkien\", True)\n",
        "library.add_book(new_book)\n",
        "\n",
        "# Borrow a book\n",
        "member1 = Member(1, \"Hassan\", \"hassan@example.com\")\n",
        "member1.borrow_book(101)\n",
        "\n",
        "# ... other operations ...\n",
        "\n",
        "library.save_data_to_files()"
      ]
    }
  ]
}